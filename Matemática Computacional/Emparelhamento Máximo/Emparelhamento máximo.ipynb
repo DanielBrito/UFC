{
 "cells": [
  {
   "cell_type": "code",
   "execution_count": 1,
   "metadata": {},
   "outputs": [],
   "source": [
    "# dessa vez a gente vai usar as definições do sage,\n",
    "# em particular a implementação de grafos.\n",
    "\n",
    "from sage.all import *\n",
    "from docplex.mp.model import Model\n",
    "import itertools as it"
   ]
  },
  {
   "cell_type": "code",
   "execution_count": 2,
   "metadata": {},
   "outputs": [],
   "source": [
    "# vamos criar uma função que, dado um grafo,\n",
    "# retorna um modelo matemático para o problema do emparelhamento máximo\n",
    "\n",
    "def maximum_matching(G):\n",
    "    # criamos o modelo\n",
    "    mdl = Model()\n",
    "    # criamos as variáveis\n",
    "    # as arestas têm uma terceira componente, que pode ser usada como peso,\n",
    "    # e como não precisamos de peso, vamos ignorá-la\n",
    "    x = {(u, v) : mdl.binary_var() for (u, v, _) in G.edges()}\n",
    "    # uma restrição para cada vértice\n",
    "    for v in G.vertices():\n",
    "        mdl.add_constraint(\n",
    "            sum(x[a, b] for (a, b, _) in G.edges_incident(v)) <= 1)\n",
    "    # por fim, a função-objetivo de maximização\n",
    "    mdl.maximize(sum(x[u, v] for (u, v, _) in G.edges()))\n",
    "    # retornamos o modelo pronto, junto com suas variáveis\n",
    "    return mdl, x"
   ]
  },
  {
   "cell_type": "code",
   "execution_count": 3,
   "metadata": {},
   "outputs": [],
   "source": [
    "# agora podemos criar um grafo e testar nosso modelo\n",
    "# isto cria um grafo aleatório com 100 vértices,\n",
    "# e chance 0.5 de ocorrência de uma aresta entre cada par de vértices\n",
    "G = graphs.random.RandomGNP(100, 0.5)\n",
    "mdl, x = maximum_matching(G)"
   ]
  },
  {
   "cell_type": "code",
   "execution_count": 4,
   "metadata": {},
   "outputs": [
    {
     "name": "stdout",
     "output_type": "stream",
     "text": [
      "Version identifier: 12.10.0.0 | 2019-11-26 | 843d4de\n",
      "CPXPARAM_Read_DataCheck                          1\n",
      "CPXPARAM_RandomSeed                              201903125\n",
      "Found incumbent of value 0.000000 after 0.00 sec. (0.06 ticks)\n",
      "Tried aggregator 1 time.\n",
      "Reduced MIP has 100 rows, 2497 columns, and 4994 nonzeros.\n",
      "Reduced MIP has 2497 binaries, 0 generals, 0 SOSs, and 0 indicators.\n",
      "Presolve time = 0.02 sec. (5.76 ticks)\n",
      "Tried aggregator 1 time.\n",
      "Detecting symmetries...\n",
      "Reduced MIP has 100 rows, 2497 columns, and 4994 nonzeros.\n",
      "Reduced MIP has 2497 binaries, 0 generals, 0 SOSs, and 0 indicators.\n",
      "Presolve time = 0.02 sec. (6.32 ticks)\n",
      "Probing time = 0.01 sec. (3.43 ticks)\n",
      "Clique table members: 100.\n",
      "MIP emphasis: balance optimality and feasibility.\n",
      "MIP search method: dynamic search.\n",
      "Parallel mode: deterministic, using up to 4 threads.\n",
      "Root relaxation solution time = 0.02 sec. (7.56 ticks)\n",
      "\n",
      "        Nodes                                         Cuts/\n",
      "   Node  Left     Objective  IInf  Best Integer    Best Bound    ItCnt     Gap\n",
      "\n",
      "*     0+    0                            0.0000     2497.0000              --- \n",
      "*     0+    0                           49.0000     2497.0000              --- \n",
      "*     0     0      integral     0       50.0000       50.0000      456    0.00%\n",
      "Elapsed time = 0.10 sec. (26.06 ticks, tree = 0.00 MB, solutions = 3)\n",
      "\n",
      "Root node processing (before b&c):\n",
      "  Real time             =    0.10 sec. (26.17 ticks)\n",
      "Parallel b&c, 4 threads:\n",
      "  Real time             =    0.00 sec. (0.00 ticks)\n",
      "  Sync time (average)   =    0.00 sec.\n",
      "  Wait time (average)   =    0.00 sec.\n",
      "                          ------------\n",
      "Total (root+branch&cut) =    0.10 sec. (26.17 ticks)\n",
      "solution for: docplex_model1\n",
      "objective: 50\n",
      "x8 = 1\n",
      "x83 = 1\n",
      "x130 = 1\n",
      "x166 = 1\n",
      "x231 = 1\n",
      "x298 = 1\n",
      "x345 = 1\n",
      "x382 = 1\n",
      "x497 = 1\n",
      "x520 = 1\n",
      "x584 = 1\n",
      "x601 = 1\n",
      "x654 = 1\n",
      "x725 = 1\n",
      "x804 = 1\n",
      "x814 = 1\n",
      "x866 = 1\n",
      "x903 = 1\n",
      "x944 = 1\n",
      "x980 = 1\n",
      "x1017 = 1\n",
      "x1075 = 1\n",
      "x1102 = 1\n",
      "x1115 = 1\n",
      "x1197 = 1\n",
      "x1199 = 1\n",
      "x1235 = 1\n",
      "x1341 = 1\n",
      "x1406 = 1\n",
      "x1451 = 1\n",
      "x1528 = 1\n",
      "x1569 = 1\n",
      "x1587 = 1\n",
      "x1609 = 1\n",
      "x1639 = 1\n",
      "x1668 = 1\n",
      "x1700 = 1\n",
      "x1768 = 1\n",
      "x1849 = 1\n",
      "x2026 = 1\n",
      "x2115 = 1\n",
      "x2195 = 1\n",
      "x2213 = 1\n",
      "x2272 = 1\n",
      "x2282 = 1\n",
      "x2310 = 1\n",
      "x2317 = 1\n",
      "x2333 = 1\n",
      "x2408 = 1\n",
      "x2461 = 1\n"
     ]
    }
   ],
   "source": [
    "# resolvemos o modelo\n",
    "sol = mdl.solve(log_output=True)\n",
    "sol.display()"
   ]
  },
  {
   "cell_type": "code",
   "execution_count": 5,
   "metadata": {},
   "outputs": [
    {
     "data": {
      "text/plain": [
       "50"
      ]
     },
     "execution_count": 5,
     "metadata": {},
     "output_type": "execute_result"
    }
   ],
   "source": [
    "# agora vamos tomar o conjunto de arestas escolhidas\n",
    "# pelo modelo como um emparelhamento máximo\n",
    "# vamos representar as arestas por conjuntos\n",
    "# para podermos checar que elas são disjuntas\n",
    "\n",
    "matching = [set([u, v]) for (u, v, _) in G.edges() if x[u, v].solution_value == 1]\n",
    "len(matching)"
   ]
  },
  {
   "cell_type": "code",
   "execution_count": 6,
   "metadata": {},
   "outputs": [],
   "source": [
    "# vamos checar que as arestas selecionadas de fato formam um emparelhamento\n",
    "\n",
    "def is_matching(edges):\n",
    "    return all(e1.isdisjoint(e2)\n",
    "               for (e1, e2) in it.combinations(edges, 2))"
   ]
  },
  {
   "cell_type": "code",
   "execution_count": 7,
   "metadata": {},
   "outputs": [
    {
     "data": {
      "text/plain": [
       "True"
      ]
     },
     "execution_count": 7,
     "metadata": {},
     "output_type": "execute_result"
    }
   ],
   "source": [
    "# e agora constatamos que as arestas selecionadas de fato formam um emparelhamento\n",
    "\n",
    "is_matching(matching)"
   ]
  },
  {
   "cell_type": "code",
   "execution_count": 8,
   "metadata": {},
   "outputs": [],
   "source": [
    "# agora sabemos que de fato o modelo selecionou um emparelhamento,\n",
    "# mas terá sido um emparelhamento máximo?\n",
    "\n",
    "def is_maximum_matching(G, edges):\n",
    "    G_edges_as_sets = [set([u, v]) for (u, v, _) in G.edges()]\n",
    "    cannot_expand = lambda e1: not all(e1.isdisjoint(e2) for e2 in edges)\n",
    "    cannot_be_expanded = all(cannot_expand(e) for e in G_edges_as_sets)\n",
    "    return is_matching(edges) and cannot_be_expanded"
   ]
  },
  {
   "cell_type": "code",
   "execution_count": 9,
   "metadata": {},
   "outputs": [
    {
     "data": {
      "text/plain": [
       "True"
      ]
     },
     "execution_count": 9,
     "metadata": {},
     "output_type": "execute_result"
    }
   ],
   "source": [
    "# e verificamos que de fato temos um emparelhamento máximo\n",
    "is_maximum_matching(G, matching)"
   ]
  }
 ],
 "metadata": {
  "kernelspec": {
   "display_name": "Python 3",
   "language": "python",
   "name": "python3"
  },
  "language_info": {
   "codemirror_mode": {
    "name": "ipython",
    "version": 3
   },
   "file_extension": ".py",
   "mimetype": "text/x-python",
   "name": "python",
   "nbconvert_exporter": "python",
   "pygments_lexer": "ipython3",
   "version": "3.7.3"
  }
 },
 "nbformat": 4,
 "nbformat_minor": 2
}
