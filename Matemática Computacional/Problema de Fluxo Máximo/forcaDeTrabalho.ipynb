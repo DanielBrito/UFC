{
 "cells": [
  {
   "cell_type": "code",
   "execution_count": 1,
   "metadata": {},
   "outputs": [],
   "source": [
    "# importamos o pandas\n",
    "import pandas as pd\n",
    "# importamos o cplex\n",
    "from docplex.mp.model import Model"
   ]
  },
  {
   "cell_type": "code",
   "execution_count": 2,
   "metadata": {},
   "outputs": [
    {
     "data": {
      "text/html": [
       "<div>\n",
       "<style scoped>\n",
       "    .dataframe tbody tr th:only-of-type {\n",
       "        vertical-align: middle;\n",
       "    }\n",
       "\n",
       "    .dataframe tbody tr th {\n",
       "        vertical-align: top;\n",
       "    }\n",
       "\n",
       "    .dataframe thead th {\n",
       "        text-align: right;\n",
       "    }\n",
       "</style>\n",
       "<table border=\"1\" class=\"dataframe\">\n",
       "  <thead>\n",
       "    <tr style=\"text-align: right;\">\n",
       "      <th></th>\n",
       "      <th>Seg</th>\n",
       "      <th>Ter</th>\n",
       "      <th>Qua</th>\n",
       "      <th>Qui</th>\n",
       "      <th>Sex</th>\n",
       "      <th>Sáb</th>\n",
       "      <th>Dom</th>\n",
       "    </tr>\n",
       "  </thead>\n",
       "  <tbody>\n",
       "    <tr>\n",
       "      <th>Demanda</th>\n",
       "      <td>14</td>\n",
       "      <td>13</td>\n",
       "      <td>15</td>\n",
       "      <td>16</td>\n",
       "      <td>19</td>\n",
       "      <td>18</td>\n",
       "      <td>11</td>\n",
       "    </tr>\n",
       "  </tbody>\n",
       "</table>\n",
       "</div>"
      ],
      "text/plain": [
       "        Seg Ter Qua Qui Sex Sáb Dom\n",
       "Demanda  14  13  15  16  19  18  11"
      ]
     },
     "execution_count": 2,
     "metadata": {},
     "output_type": "execute_result"
    }
   ],
   "source": [
    "# vamos resolver o problema do planejamento de força de trabalho\n",
    "# para isso, vamos coletar e armazenar informações sobre o problema em um DataFrame\n",
    "# estas informações são retiradas da descrição do problema nas notas de aula\n",
    "\n",
    "data = pd.DataFrame(columns=[\"Seg\", \"Ter\", \"Qua\", \"Qui\", \"Sex\", \"Sáb\", \"Dom\"])\n",
    "data.loc[\"Demanda\"] = [14, 13, 15, 16, 19, 18, 11]\n",
    "data"
   ]
  },
  {
   "cell_type": "code",
   "execution_count": 3,
   "metadata": {},
   "outputs": [],
   "source": [
    "# vamos relacionar cada dia da semana com os inícios de jornada\n",
    "# que ajudam a satisfazer sua demanda\n",
    "\n",
    "# tem um jeito mais esperto de fazer isso?\n",
    "\n",
    "work_on = {\"Seg\" : (\"Seg\", \"Qui\", \"Sex\", \"Sáb\", \"Dom\"),\n",
    "           \"Ter\" : (\"Ter\", \"Sex\", \"Sáb\", \"Dom\", \"Seg\"),\n",
    "           \"Qua\" : (\"Qua\", \"Sáb\", \"Dom\", \"Seg\", \"Ter\"),\n",
    "           \"Qui\" : (\"Qui\", \"Dom\", \"Seg\", \"Ter\", \"Qua\"),\n",
    "           \"Sex\" : (\"Sex\", \"Seg\", \"Ter\", \"Qua\", \"Qui\"),\n",
    "           \"Sáb\" : (\"Sáb\", \"Ter\", \"Qua\", \"Qui\", \"Sex\"),\n",
    "           \"Dom\" : (\"Dom\", \"Qua\", \"Qui\", \"Sex\", \"Sáb\")}"
   ]
  },
  {
   "cell_type": "code",
   "execution_count": 4,
   "metadata": {},
   "outputs": [],
   "source": [
    "# agora vamos criar o modelo matemático para nosso problema\n",
    "\n",
    "model = Model()"
   ]
  },
  {
   "cell_type": "code",
   "execution_count": 5,
   "metadata": {},
   "outputs": [
    {
     "data": {
      "text/plain": [
       "{'Seg': docplex.mp.Var(type=I),\n",
       " 'Ter': docplex.mp.Var(type=I),\n",
       " 'Qua': docplex.mp.Var(type=I),\n",
       " 'Qui': docplex.mp.Var(type=I),\n",
       " 'Sex': docplex.mp.Var(type=I),\n",
       " 'Sáb': docplex.mp.Var(type=I),\n",
       " 'Dom': docplex.mp.Var(type=I)}"
      ]
     },
     "execution_count": 5,
     "metadata": {},
     "output_type": "execute_result"
    }
   ],
   "source": [
    "# adicionamos uma variável para cada dia da semana\n",
    "x = {day : model.integer_var() for day in data.columns}\n",
    "x"
   ]
  },
  {
   "cell_type": "code",
   "execution_count": 6,
   "metadata": {},
   "outputs": [],
   "source": [
    "# agora vamos criar as restrições\n",
    "\n",
    "for day in data.columns:\n",
    "    model.add_constraint(\n",
    "        sum(x[start_day] for start_day in work_on[day]) >= data[day].Demanda)"
   ]
  },
  {
   "cell_type": "code",
   "execution_count": 7,
   "metadata": {},
   "outputs": [],
   "source": [
    "# definimos a função-objetivo\n",
    "\n",
    "model.minimize(sum(x[day] for day in data.columns))"
   ]
  },
  {
   "cell_type": "code",
   "execution_count": 8,
   "metadata": {},
   "outputs": [
    {
     "name": "stdout",
     "output_type": "stream",
     "text": [
      "Version identifier: 12.10.0.0 | 2019-11-26 | 843d4de\n",
      "CPXPARAM_Read_DataCheck                          1\n",
      "CPXPARAM_RandomSeed                              201903125\n",
      "Found incumbent of value 48.000000 after 0.00 sec. (0.00 ticks)\n",
      "Tried aggregator 1 time.\n",
      "Reduced MIP has 7 rows, 7 columns, and 35 nonzeros.\n",
      "Reduced MIP has 0 binaries, 7 generals, 0 SOSs, and 0 indicators.\n",
      "Presolve time = 0.02 sec. (0.01 ticks)\n",
      "Tried aggregator 1 time.\n",
      "Detecting symmetries...\n",
      "Reduced MIP has 7 rows, 7 columns, and 35 nonzeros.\n",
      "Reduced MIP has 0 binaries, 7 generals, 0 SOSs, and 0 indicators.\n",
      "Presolve time = 0.03 sec. (0.01 ticks)\n",
      "MIP emphasis: balance optimality and feasibility.\n",
      "MIP search method: dynamic search.\n",
      "Parallel mode: deterministic, using up to 4 threads.\n",
      "Root relaxation solution time = 0.01 sec. (0.01 ticks)\n",
      "\n",
      "        Nodes                                         Cuts/\n",
      "   Node  Left     Objective  IInf  Best Integer    Best Bound    ItCnt     Gap\n",
      "\n",
      "*     0+    0                           48.0000        0.0000           100.00%\n",
      "*     0     0      integral     0       22.0000       22.0000        5    0.00%\n",
      "Elapsed time = 0.17 sec. (0.05 ticks, tree = 0.00 MB, solutions = 2)\n",
      "\n",
      "Root node processing (before b&c):\n",
      "  Real time             =    0.18 sec. (0.05 ticks)\n",
      "Parallel b&c, 4 threads:\n",
      "  Real time             =    0.00 sec. (0.00 ticks)\n",
      "  Sync time (average)   =    0.00 sec.\n",
      "  Wait time (average)   =    0.00 sec.\n",
      "                          ------------\n",
      "Total (root+branch&cut) =    0.18 sec. (0.05 ticks)\n"
     ]
    }
   ],
   "source": [
    "# resolvemos o modelo\n",
    "\n",
    "sol = model.solve(log_output=True)"
   ]
  },
  {
   "cell_type": "code",
   "execution_count": 9,
   "metadata": {},
   "outputs": [
    {
     "name": "stdout",
     "output_type": "stream",
     "text": [
      "solution for: docplex_model1\n",
      "objective: 22\n",
      "x1 = 4\n",
      "x2 = 7\n",
      "x3 = 1\n",
      "x4 = 7\n",
      "x6 = 3\n"
     ]
    }
   ],
   "source": [
    "sol.display()"
   ]
  },
  {
   "cell_type": "code",
   "execution_count": 10,
   "metadata": {},
   "outputs": [
    {
     "data": {
      "text/html": [
       "<div>\n",
       "<style scoped>\n",
       "    .dataframe tbody tr th:only-of-type {\n",
       "        vertical-align: middle;\n",
       "    }\n",
       "\n",
       "    .dataframe tbody tr th {\n",
       "        vertical-align: top;\n",
       "    }\n",
       "\n",
       "    .dataframe thead th {\n",
       "        text-align: right;\n",
       "    }\n",
       "</style>\n",
       "<table border=\"1\" class=\"dataframe\">\n",
       "  <thead>\n",
       "    <tr style=\"text-align: right;\">\n",
       "      <th></th>\n",
       "      <th>Seg</th>\n",
       "      <th>Ter</th>\n",
       "      <th>Qua</th>\n",
       "      <th>Qui</th>\n",
       "      <th>Sex</th>\n",
       "      <th>Sáb</th>\n",
       "      <th>Dom</th>\n",
       "    </tr>\n",
       "  </thead>\n",
       "  <tbody>\n",
       "    <tr>\n",
       "      <th>Demanda</th>\n",
       "      <td>14</td>\n",
       "      <td>13</td>\n",
       "      <td>15</td>\n",
       "      <td>16</td>\n",
       "      <td>19</td>\n",
       "      <td>18</td>\n",
       "      <td>11</td>\n",
       "    </tr>\n",
       "    <tr>\n",
       "      <th>Iniciam jornada</th>\n",
       "      <td>4</td>\n",
       "      <td>7</td>\n",
       "      <td>1</td>\n",
       "      <td>7</td>\n",
       "      <td>0</td>\n",
       "      <td>3</td>\n",
       "      <td>0</td>\n",
       "    </tr>\n",
       "  </tbody>\n",
       "</table>\n",
       "</div>"
      ],
      "text/plain": [
       "                Seg Ter Qua Qui Sex Sáb Dom\n",
       "Demanda          14  13  15  16  19  18  11\n",
       "Iniciam jornada   4   7   1   7   0   3   0"
      ]
     },
     "execution_count": 10,
     "metadata": {},
     "output_type": "execute_result"
    }
   ],
   "source": [
    "# vamos salvar a solução em data\n",
    "\n",
    "data.loc[\"Iniciam jornada\"] = [x[day].solution_value for day in data.columns]\n",
    "data"
   ]
  },
  {
   "cell_type": "code",
   "execution_count": 11,
   "metadata": {},
   "outputs": [
    {
     "data": {
      "text/html": [
       "<div>\n",
       "<style scoped>\n",
       "    .dataframe tbody tr th:only-of-type {\n",
       "        vertical-align: middle;\n",
       "    }\n",
       "\n",
       "    .dataframe tbody tr th {\n",
       "        vertical-align: top;\n",
       "    }\n",
       "\n",
       "    .dataframe thead th {\n",
       "        text-align: right;\n",
       "    }\n",
       "</style>\n",
       "<table border=\"1\" class=\"dataframe\">\n",
       "  <thead>\n",
       "    <tr style=\"text-align: right;\">\n",
       "      <th></th>\n",
       "      <th>Seg</th>\n",
       "      <th>Ter</th>\n",
       "      <th>Qua</th>\n",
       "      <th>Qui</th>\n",
       "      <th>Sex</th>\n",
       "      <th>Sáb</th>\n",
       "      <th>Dom</th>\n",
       "    </tr>\n",
       "  </thead>\n",
       "  <tbody>\n",
       "    <tr>\n",
       "      <th>Demanda</th>\n",
       "      <td>14</td>\n",
       "      <td>13</td>\n",
       "      <td>15</td>\n",
       "      <td>16</td>\n",
       "      <td>19</td>\n",
       "      <td>18</td>\n",
       "      <td>11</td>\n",
       "    </tr>\n",
       "    <tr>\n",
       "      <th>Iniciam jornada</th>\n",
       "      <td>4</td>\n",
       "      <td>7</td>\n",
       "      <td>1</td>\n",
       "      <td>7</td>\n",
       "      <td>0</td>\n",
       "      <td>3</td>\n",
       "      <td>0</td>\n",
       "    </tr>\n",
       "    <tr>\n",
       "      <th>Trabalhadores Disponíveis</th>\n",
       "      <td>14</td>\n",
       "      <td>14</td>\n",
       "      <td>15</td>\n",
       "      <td>19</td>\n",
       "      <td>19</td>\n",
       "      <td>18</td>\n",
       "      <td>11</td>\n",
       "    </tr>\n",
       "  </tbody>\n",
       "</table>\n",
       "</div>"
      ],
      "text/plain": [
       "                          Seg Ter Qua Qui Sex Sáb Dom\n",
       "Demanda                    14  13  15  16  19  18  11\n",
       "Iniciam jornada             4   7   1   7   0   3   0\n",
       "Trabalhadores Disponíveis  14  14  15  19  19  18  11"
      ]
     },
     "execution_count": 11,
     "metadata": {},
     "output_type": "execute_result"
    }
   ],
   "source": [
    "# vamos verificar quantos trabalhadores temos disponíveis em cada dia da semana\n",
    "\n",
    "data.loc[\"Trabalhadores Disponíveis\"] = [sum(data[start_day][\"Iniciam jornada\"]\n",
    "                                             for start_day in work_on[day])\n",
    "                                         for day in data.columns]\n",
    "data"
   ]
  },
  {
   "cell_type": "code",
   "execution_count": 12,
   "metadata": {},
   "outputs": [
    {
     "data": {
      "text/plain": [
       "<matplotlib.axes._subplots.AxesSubplot at 0x7f6fe08c5588>"
      ]
     },
     "execution_count": 12,
     "metadata": {},
     "output_type": "execute_result"
    }
   ],
   "source": [
    "# bem, a gente pode até ficar satisfeito com os dados da solução\n",
    "# sendo apresentados dessa forma\n",
    "# no entanto, é melhor apresentar a solução como um gráfico\n",
    "\n",
    "data.plot.bar()"
   ]
  },
  {
   "cell_type": "code",
   "execution_count": 13,
   "metadata": {},
   "outputs": [
    {
     "data": {
      "text/plain": [
       "<matplotlib.axes._subplots.AxesSubplot at 0x7f6fe0791160>"
      ]
     },
     "execution_count": 13,
     "metadata": {},
     "output_type": "execute_result"
    },
    {
     "data": {
      "image/png": "[encoded data removed]",
      "text/plain": [
       "<Figure size 504x576 with 1 Axes>"
      ]
     },
     "metadata": {},
     "output_type": "display_data"
    }
   ],
   "source": [
    "# parece que é melhor plotar o transposto de data:\n",
    "# não queremos agrupar as colunas, e sim as linhas\n",
    "\n",
    "data_transposed = data.transpose()\n",
    "data_transposed.plot.bar(figsize=(7, 8))"
   ]
  },
  {
   "cell_type": "code",
   "execution_count": 14,
   "metadata": {},
   "outputs": [],
   "source": [
    "# em quais dias temos mais trabalhadores que o necessário?\n",
    "# note que os dois dias com mais demanda não têm sua demanda satisfeita com folga\n",
    "# no entanto, o terceiro dia com mais demanda usa mais trabalhadores que o necessário.\n",
    "\n",
    "# vamos supor que o seguinte é razoável:\n",
    "# se a nossa solução ótima satisfaz com folga algumas demandas, é preferível que\n",
    "# essas folgas aconteçam nos três dias com mais demanda.\n",
    "\n",
    "# desafio que não vale nada, mas pode ser bom para vc pensar um pouco:\n",
    "# como faríamos para incentivar o modelo a ter uma solução ótima cujas\n",
    "# folgas são encorajadas a ocorrer nos dias com mais demanda?"
   ]
  }
 ],
 "metadata": {
  "kernelspec": {
   "display_name": "Python 3",
   "language": "python",
   "name": "python3"
  },
  "language_info": {
   "codemirror_mode": {
    "name": "ipython",
    "version": 3
   },
   "file_extension": ".py",
   "mimetype": "text/x-python",
   "name": "python",
   "nbconvert_exporter": "python",
   "pygments_lexer": "ipython3",
   "version": "3.7.3"
  }
 },
 "nbformat": 4,
 "nbformat_minor": 2
}
